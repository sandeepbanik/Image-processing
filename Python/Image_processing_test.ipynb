{
 "cells": [
  {
   "cell_type": "markdown",
   "metadata": {},
   "source": [
    "# Library imports"
   ]
  },
  {
   "cell_type": "code",
   "execution_count": null,
   "metadata": {
    "collapsed": true
   },
   "outputs": [],
   "source": [
    "import numpy as np\n",
    "import cv2\n",
    "import matplotlib.pyplot as plt\n",
    "import matplotlib.image as mpimg\n",
    "import Img_pr_fun"
   ]
  },
  {
   "cell_type": "markdown",
   "metadata": {},
   "source": [
    "# Testing negative tranformation\n",
    "\n",
    "The image is first load using opencv2 and check for the tranformation"
   ]
  },
  {
   "cell_type": "code",
   "execution_count": null,
   "metadata": {},
   "outputs": [],
   "source": [
    "I = cv2.imread('test_img_2.jpg',0)\n",
    "plt.imshow(I,cmap='gray')\n",
    "plt.show()"
   ]
  },
  {
   "cell_type": "code",
   "execution_count": null,
   "metadata": {},
   "outputs": [],
   "source": [
    "img_1 = Img_pr_fun.neg_tf(I)\n",
    "plt.imshow(img_1,cmap='gray')\n",
    "plt.show()"
   ]
  },
  {
   "cell_type": "markdown",
   "metadata": {},
   "source": [
    "# Testing log transformation\n",
    "\n",
    "The log tranformation if best viewed in the range of fft components of the image\n",
    "The fft of the image is first computed and compared against the log transformation"
   ]
  },
  {
   "cell_type": "code",
   "execution_count": null,
   "metadata": {},
   "outputs": [],
   "source": [
    "# FFT image\n",
    "f = np.fft.fft2(I)\n",
    "fshift = np.fft.fftshift(f)\n",
    "\n",
    "# FFT is increased by log function (standard)\n",
    "magnitude_spectrum = 20*np.log(np.abs(fshift))\n",
    "\n",
    "# FFT image\n",
    "plt.imshow(np.abs(fshift),cmap=\"gray\")\n",
    "plt.show()"
   ]
  },
  {
   "cell_type": "code",
   "execution_count": null,
   "metadata": {},
   "outputs": [],
   "source": [
    "# Class assign\n",
    "I_log = Img_pr_fun.log_transform(fshift)\n",
    "plt.imshow(np.abs(I_log),cmap=\"gray\")\n",
    "plt.show()"
   ]
  },
  {
   "cell_type": "markdown",
   "metadata": {},
   "source": [
    "# Testing for gamma correction\n",
    "\n",
    "In this part of the script the gamma correction is tested\n",
    "A different image is loaded "
   ]
  },
  {
   "cell_type": "code",
   "execution_count": null,
   "metadata": {},
   "outputs": [],
   "source": [
    "# Load image\n",
    "mri_img = cv2.imread('MRI-Brain.jpg',0)\n",
    "plt.imshow(mri_img,cmap=\"gray\")\n",
    "plt.show()\n",
    "\n",
    "# Class call\n",
    "gamma_cor = Img_pr_fun.power_tf(mri_img)\n",
    "plt.imshow(gamma_cor,cmap=\"gray\")\n",
    "plt.show()"
   ]
  },
  {
   "cell_type": "markdown",
   "metadata": {},
   "source": [
    "# Testing histogram equilizer \n",
    "\n",
    "This part of script is for testing the histogram equilizer"
   ]
  },
  {
   "cell_type": "code",
   "execution_count": null,
   "metadata": {},
   "outputs": [],
   "source": [
    "# Use previous image\n",
    "I_hist = Img_pr_fun.hist_eq(I)\n",
    "plt.imshow(I_hist,cmap=\"gray\")\n",
    "plt.show()\n",
    "\n",
    "# Histogram plot\n",
    "plt.step(range(0,255,1),Img_pr_fun.hist_data(I))\n",
    "plt.show()\n",
    "plt.step(range(0,255,1),Img_pr_fun.hist_data(I_hist))\n",
    "plt.show()"
   ]
  }
 ],
 "metadata": {
  "kernelspec": {
   "display_name": "Python 3",
   "language": "python",
   "name": "python3"
  },
  "language_info": {
   "codemirror_mode": {
    "name": "ipython",
    "version": 3
   },
   "file_extension": ".py",
   "mimetype": "text/x-python",
   "name": "python",
   "nbconvert_exporter": "python",
   "pygments_lexer": "ipython3",
   "version": "3.6.3"
  }
 },
 "nbformat": 4,
 "nbformat_minor": 2
}
